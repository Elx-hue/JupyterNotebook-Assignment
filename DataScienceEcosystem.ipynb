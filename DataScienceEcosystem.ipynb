{
 "cells": [
  {
   "cell_type": "markdown",
   "id": "1384e90c-d220-47ce-8b21-1b9f3c517a83",
   "metadata": {},
   "source": [
    "# Data Science Tools and Ecosystem"
   ]
  },
  {
   "cell_type": "markdown",
   "id": "cccdd9ed-ad35-445c-81c6-49ea7b63c008",
   "metadata": {},
   "source": [
    "In this notebook, Data Science Tools and Ecosystem are summarized"
   ]
  },
  {
   "cell_type": "markdown",
   "id": "a673b60a-f3dd-4df6-b6ad-c6ee2359803d",
   "metadata": {},
   "source": [
    "Objectives:\n",
    "\n",
    "- Overviews of popular languages for data science\n",
    "- Knowledge of different tools and their libraries employed in data science\n",
    "- Exposure to integrated development environments\n",
    "- Familiarise with the data science high-level frameworks and processes\n",
    "- Highlights of practical applications for data science knowledge areas"
   ]
  },
  {
   "cell_type": "markdown",
   "id": "ced3af36-060f-4192-b322-3a2dc35e7d2d",
   "metadata": {},
   "source": [
    "Some of the popular languages that Data Scientists use are:\n",
    "\n",
    "1. Python\n",
    "2. R\n",
    "3. SQL"
   ]
  },
  {
   "cell_type": "markdown",
   "id": "f16f1415-5457-4970-8727-38e5f05cc119",
   "metadata": {},
   "source": [
    "Some of the commonly used libraries used by Data Scientists include:\n",
    "\n",
    "1. Pandas\n",
    "2. Numpy\n",
    "3. PyTorch\n",
    "4. ScikitLearn"
   ]
  },
  {
   "cell_type": "markdown",
   "id": "4084bdfb-befd-48ad-8e6d-1654531e7c53",
   "metadata": {},
   "source": [
    "|Data Science Tools|\n",
    "|------------------|\n",
    "|Jupyter Lab|\n",
    "|RStudio|\n",
    "|Spyder|"
   ]
  },
  {
   "cell_type": "markdown",
   "id": "406ba4fd-8c2f-4647-9b0e-7d59f9e7e1bc",
   "metadata": {},
   "source": [
    "### Below are a few examples of evaluating arithmetic expressions in Python"
   ]
  },
  {
   "cell_type": "code",
   "execution_count": 3,
   "id": "93eb4ed2-9af5-4202-88c5-ea3b04e09df7",
   "metadata": {},
   "outputs": [
    {
     "data": {
      "text/plain": [
       "17"
      ]
     },
     "execution_count": 3,
     "metadata": {},
     "output_type": "execute_result"
    }
   ],
   "source": [
    "(3*4)+5                   #This a simple arithmetic expression to mutiply then add integers"
   ]
  },
  {
   "cell_type": "code",
   "execution_count": 6,
   "id": "684cc7ec-5148-41c9-be68-941fa6e523e3",
   "metadata": {},
   "outputs": [],
   "source": [
    "inMinutes=200 #  This will convert 200 minutes to hours by diving by 60\n",
    "inHours=inMinutes/60"
   ]
  },
  {
   "cell_type": "markdown",
   "id": "16f047ce-0d53-4625-83ac-8137e788ae75",
   "metadata": {},
   "source": [
    "## Author\n",
    "\n",
    "Elijah Olubiyo"
   ]
  },
  {
   "cell_type": "code",
   "execution_count": null,
   "id": "64a5365e-6662-45c3-aab9-ece148e4a4c8",
   "metadata": {},
   "outputs": [],
   "source": []
  }
 ],
 "metadata": {
  "kernelspec": {
   "display_name": "Python 3 (ipykernel)",
   "language": "python",
   "name": "python3"
  },
  "language_info": {
   "codemirror_mode": {
    "name": "ipython",
    "version": 3
   },
   "file_extension": ".py",
   "mimetype": "text/x-python",
   "name": "python",
   "nbconvert_exporter": "python",
   "pygments_lexer": "ipython3",
   "version": "3.11.5"
  }
 },
 "nbformat": 4,
 "nbformat_minor": 5
}
